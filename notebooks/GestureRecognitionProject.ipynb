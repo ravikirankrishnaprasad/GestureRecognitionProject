{
 "cells": [
  {
   "cell_type": "markdown",
   "metadata": {},
   "source": [
    "# Gesture Recognition\n",
    "In this group project, you are going to build a 3D Conv model that will be able to predict the 5 gestures correctly. Please import the following libraries to get started."
   ]
  },
  {
   "cell_type": "code",
   "execution_count": 1,
   "metadata": {},
   "outputs": [],
   "source": [
    "import numpy as np\n",
    "import os\n",
    "from imageio import imread\n",
    "from PIL import Image\n",
    "import datetime\n",
    "import os"
   ]
  },
  {
   "cell_type": "code",
   "execution_count": 2,
   "metadata": {},
   "outputs": [],
   "source": [
    "from keras.preprocessing.image import ImageDataGenerator"
   ]
  },
  {
   "cell_type": "markdown",
   "metadata": {},
   "source": [
    "We set the random seed so that the results don't vary drastically."
   ]
  },
  {
   "cell_type": "code",
   "execution_count": 3,
   "metadata": {},
   "outputs": [],
   "source": [
    "np.random.seed(30)\n",
    "import random as rn\n",
    "rn.seed(30)\n",
    "from keras import backend as K\n",
    "import tensorflow as tf\n",
    "tf.random.set_seed(30)"
   ]
  },
  {
   "cell_type": "markdown",
   "metadata": {},
   "source": [
    "In this block, you read the folder names for training and validation. You also set the `batch_size` here. Note that you set the batch size in such a way that you are able to use the GPU in full capacity. You keep increasing the batch size until the machine throws an error."
   ]
  },
  {
   "cell_type": "code",
   "execution_count": 4,
   "metadata": {},
   "outputs": [],
   "source": [
    "train_doc = np.random.permutation(open('/datasets/Project_data/train.csv').readlines())\n",
    "val_doc = np.random.permutation(open('/datasets/Project_data/val.csv').readlines())\n",
    "#experiment with the batch size\n",
    "batch_size = 32"
   ]
  },
  {
   "cell_type": "code",
   "execution_count": 5,
   "metadata": {},
   "outputs": [],
   "source": [
    "# Function to resize images\n",
    "def resize_image(image, size):\n",
    "    image = image.astype(np.uint8)\n",
    "    image = Image.fromarray(image)\n",
    "    image = image.resize(size, Image.ANTIALIAS)\n",
    "    return np.array(image)"
   ]
  },
  {
   "cell_type": "markdown",
   "metadata": {},
   "source": [
    "## Generator\n",
    "This is one of the most important part of the code. The overall structure of the generator has been given. In the generator, you are going to preprocess the images as you have images of 2 different dimensions as well as create a batch of video frames. You have to experiment with `img_idx`, `y`,`z` and normalization such that you get high accuracy."
   ]
  },
  {
   "cell_type": "code",
   "execution_count": 6,
   "metadata": {},
   "outputs": [],
   "source": [
    "# Generator function\n",
    "def generator(source_path, folder_list, batch_size, augment=False):\n",
    "    print('Source path = ', source_path, '; batch size =', batch_size)\n",
    "    img_idx = np.arange(0, 40, 3)\n",
    "    while True:\n",
    "        t = np.random.permutation(folder_list)\n",
    "        num_batches = len(folder_list) // batch_size\n",
    "        for batch in range(num_batches):\n",
    "            batch_data = np.zeros((batch_size, len(img_idx), 50, 50, 3))\n",
    "            batch_labels = np.zeros((batch_size, 5))\n",
    "            for folder in range(batch_size):\n",
    "                folder_path = source_path + '/' + t[folder + (batch * batch_size)].split(';')[0]\n",
    "                imgs = os.listdir(folder_path)\n",
    "                \n",
    "                # Adjusting img_idx if it exceeds the number of images available\n",
    "                valid_idx = [i for i in img_idx if i < len(imgs)]\n",
    "                \n",
    "                for idx, item in enumerate(valid_idx):\n",
    "                    image_path = folder_path + '/' + imgs[item]\n",
    "                    image = imread(image_path).astype(np.float32)\n",
    "                    image = resize_image(image, (50, 50))\n",
    "                    batch_data[folder, idx, :, :, :] = image / 255.0  # Normalize the image\n",
    "\n",
    "                batch_labels[folder, int(t[folder + (batch * batch_size)].strip().split(';')[2])] = 1\n",
    "            \n",
    "            if augment:\n",
    "                datagen = ImageDataGenerator(rotation_range=10, width_shift_range=0.1, height_shift_range=0.1, horizontal_flip=True)\n",
    "                yield datagen.flow(batch_data, batch_labels, batch_size=batch_size).__next__()\n",
    "            else:\n",
    "                yield batch_data, batch_labels"
   ]
  },
  {
   "cell_type": "markdown",
   "metadata": {},
   "source": [
    "Note here that a video is represented above in the generator as (number of images, height, width, number of channels). Take this into consideration while creating the model architecture."
   ]
  },
  {
   "cell_type": "code",
   "execution_count": 7,
   "metadata": {},
   "outputs": [
    {
     "name": "stdout",
     "output_type": "stream",
     "text": [
      "# training sequences = 663\n",
      "# validation sequences = 100\n",
      "# epochs = 10\n"
     ]
    }
   ],
   "source": [
    "curr_dt_time = datetime.datetime.now()\n",
    "train_path = '/datasets/Project_data/train'\n",
    "val_path = '/datasets/Project_data/val'\n",
    "num_train_sequences = len(train_doc)\n",
    "print('# training sequences =', num_train_sequences)\n",
    "num_val_sequences = len(val_doc)\n",
    "print('# validation sequences =', num_val_sequences)\n",
    "# choose the number of epochs\n",
    "num_epochs = 10\n",
    "print ('# epochs =', num_epochs)"
   ]
  },
  {
   "cell_type": "markdown",
   "metadata": {},
   "source": [
    "## Model\n",
    "Here you make the model using different functionalities that Keras provides. Remember to use `Conv3D` and `MaxPooling3D` and not `Conv2D` and `Maxpooling2D` for a 3D convolution model. You would want to use `TimeDistributed` while building a Conv2D + RNN model. Also remember that the last layer is the softmax. Design the network in such a way that the model is able to give good accuracy on the least number of parameters so that it can fit in the memory of the webcam."
   ]
  },
  {
   "cell_type": "code",
   "execution_count": 8,
   "metadata": {},
   "outputs": [],
   "source": [
    "from keras.models import Sequential, Model\n",
    "from keras.layers import Dense, GRU, Flatten, TimeDistributed, Flatten, BatchNormalization, Activation, Dropout\n",
    "from keras.layers.convolutional import Conv3D, MaxPooling3D\n",
    "from keras.callbacks import ModelCheckpoint, ReduceLROnPlateau\n",
    "from keras.regularizers import l2\n",
    "from tensorflow.keras import optimizers\n",
    "\n",
    "# Function to build Conv3D model\n",
    "def build_conv3d_model(input_shape):\n",
    "    model = Sequential()\n",
    "    model.add(Conv3D(16, (3, 3, 3), padding='same', input_shape=input_shape))\n",
    "    model.add(Activation('relu'))\n",
    "    model.add(BatchNormalization())\n",
    "    model.add(MaxPooling3D(pool_size=(2, 2, 2)))\n",
    "    model.add(Dropout(0.25))\n",
    "    \n",
    "    model.add(Conv3D(32, (3, 3, 3), padding='same'))\n",
    "    model.add(Activation('relu'))\n",
    "    model.add(BatchNormalization())\n",
    "    model.add(MaxPooling3D(pool_size=(2, 2, 2)))\n",
    "    model.add(Dropout(0.25))\n",
    "\n",
    "    model.add(Conv3D(64, (3, 3, 3), padding='same'))\n",
    "    model.add(Activation('relu'))\n",
    "    model.add(BatchNormalization())\n",
    "    model.add(MaxPooling3D(pool_size=(2, 2, 2)))\n",
    "    model.add(Dropout(0.25))\n",
    "\n",
    "    model.add(Flatten())\n",
    "    model.add(Dense(512, kernel_regularizer=l2(0.01)))\n",
    "    model.add(Activation('relu'))\n",
    "    model.add(Dropout(0.5))\n",
    "    model.add(Dense(5))\n",
    "    model.add(Activation('softmax'))\n",
    "    \n",
    "    optimiser = optimizers.Adam(learning_rate=0.001)\n",
    "    model.compile(optimizer=optimiser, loss='categorical_crossentropy', metrics=['categorical_accuracy'])\n",
    "    return model"
   ]
  },
  {
   "cell_type": "markdown",
   "metadata": {},
   "source": [
    "Now that you have written the model, the next step is to `compile` the model. When you print the `summary` of the model, you'll see the total number of parameters you have to train."
   ]
  },
  {
   "cell_type": "markdown",
   "metadata": {},
   "source": [
    "## Experiment 1: Baseline Conv3D Model"
   ]
  },
  {
   "cell_type": "code",
   "execution_count": 9,
   "metadata": {
    "scrolled": true
   },
   "outputs": [
    {
     "name": "stdout",
     "output_type": "stream",
     "text": [
      "Running Experiment 1: Baseline Conv3D Model\n",
      "Model: \"sequential\"\n",
      "_________________________________________________________________\n",
      " Layer (type)                Output Shape              Param #   \n",
      "=================================================================\n",
      " conv3d (Conv3D)             (None, 14, 50, 50, 16)    1312      \n",
      "                                                                 \n",
      " activation (Activation)     (None, 14, 50, 50, 16)    0         \n",
      "                                                                 \n",
      " batch_normalization (BatchN  (None, 14, 50, 50, 16)   64        \n",
      " ormalization)                                                   \n",
      "                                                                 \n",
      " max_pooling3d (MaxPooling3D  (None, 7, 25, 25, 16)    0         \n",
      " )                                                               \n",
      "                                                                 \n",
      " dropout (Dropout)           (None, 7, 25, 25, 16)     0         \n",
      "                                                                 \n",
      " conv3d_1 (Conv3D)           (None, 7, 25, 25, 32)     13856     \n",
      "                                                                 \n",
      " activation_1 (Activation)   (None, 7, 25, 25, 32)     0         \n",
      "                                                                 \n",
      " batch_normalization_1 (Batc  (None, 7, 25, 25, 32)    128       \n",
      " hNormalization)                                                 \n",
      "                                                                 \n",
      " max_pooling3d_1 (MaxPooling  (None, 3, 12, 12, 32)    0         \n",
      " 3D)                                                             \n",
      "                                                                 \n",
      " dropout_1 (Dropout)         (None, 3, 12, 12, 32)     0         \n",
      "                                                                 \n",
      " conv3d_2 (Conv3D)           (None, 3, 12, 12, 64)     55360     \n",
      "                                                                 \n",
      " activation_2 (Activation)   (None, 3, 12, 12, 64)     0         \n",
      "                                                                 \n",
      " batch_normalization_2 (Batc  (None, 3, 12, 12, 64)    256       \n",
      " hNormalization)                                                 \n",
      "                                                                 \n",
      " max_pooling3d_2 (MaxPooling  (None, 1, 6, 6, 64)      0         \n",
      " 3D)                                                             \n",
      "                                                                 \n",
      " dropout_2 (Dropout)         (None, 1, 6, 6, 64)       0         \n",
      "                                                                 \n",
      " flatten (Flatten)           (None, 2304)              0         \n",
      "                                                                 \n",
      " dense (Dense)               (None, 512)               1180160   \n",
      "                                                                 \n",
      " activation_3 (Activation)   (None, 512)               0         \n",
      "                                                                 \n",
      " dropout_3 (Dropout)         (None, 512)               0         \n",
      "                                                                 \n",
      " dense_1 (Dense)             (None, 5)                 2565      \n",
      "                                                                 \n",
      " activation_4 (Activation)   (None, 5)                 0         \n",
      "                                                                 \n",
      "=================================================================\n",
      "Total params: 1,253,701\n",
      "Trainable params: 1,253,477\n",
      "Non-trainable params: 224\n",
      "_________________________________________________________________\n"
     ]
    },
    {
     "name": "stderr",
     "output_type": "stream",
     "text": [
      "2024-09-02 12:56:53.668111: W tensorflow/core/common_runtime/gpu/gpu_bfc_allocator.cc:39] Overriding allow_growth setting because the TF_FORCE_GPU_ALLOW_GROWTH environment variable is set. Original config value was 0.\n",
      "2024-09-02 12:56:53.668179: I tensorflow/core/common_runtime/gpu/gpu_device.cc:1525] Created device /job:localhost/replica:0/task:0/device:GPU:0 with 14800 MB memory:  -> device: 0, name: Quadro RTX 5000, pci bus id: 0000:3f:00.0, compute capability: 7.5\n"
     ]
    }
   ],
   "source": [
    "# Experiment 1: Baseline Conv3D Model\n",
    "print(\"Running Experiment 1: Baseline Conv3D Model\")\n",
    "\n",
    "input_shape = (len(np.arange(0, 40, 3)), 50, 50, 3)\n",
    "model = build_conv3d_model(input_shape)\n",
    "model.summary()"
   ]
  },
  {
   "cell_type": "markdown",
   "metadata": {},
   "source": [
    "Let us create the `train_generator` and the `val_generator` which will be used in `.fit_generator`."
   ]
  },
  {
   "cell_type": "code",
   "execution_count": 10,
   "metadata": {},
   "outputs": [],
   "source": [
    "train_generator = generator(train_path, train_doc, batch_size)\n",
    "val_generator = generator(val_path, val_doc, batch_size)"
   ]
  },
  {
   "cell_type": "code",
   "execution_count": 11,
   "metadata": {},
   "outputs": [
    {
     "name": "stdout",
     "output_type": "stream",
     "text": [
      "WARNING:tensorflow:`period` argument is deprecated. Please use `save_freq` to specify the frequency in number of batches seen.\n"
     ]
    }
   ],
   "source": [
    "model_name = 'model_init' + '_' + str(curr_dt_time).replace(' ','').replace(':','_') + '/'\n",
    "    \n",
    "if not os.path.exists(model_name):\n",
    "    os.mkdir(model_name)\n",
    "        \n",
    "filepath = model_name + 'model-{epoch:05d}-{loss:.5f}-{categorical_accuracy:.5f}-{val_loss:.5f}-{val_categorical_accuracy:.5f}.h5'\n",
    "\n",
    "checkpoint = ModelCheckpoint(filepath, monitor='val_loss', verbose=1, save_best_only=False, save_weights_only=False, mode='auto', period=1)\n",
    "\n",
    "LR = ReduceLROnPlateau(monitor='val_loss', factor=0.2, patience=5, min_lr=0.02)\n",
    "callbacks_list = [checkpoint, LR]"
   ]
  },
  {
   "cell_type": "markdown",
   "metadata": {},
   "source": [
    "The `steps_per_epoch` and `validation_steps` are used by `fit_generator` to decide the number of next() calls it need to make."
   ]
  },
  {
   "cell_type": "code",
   "execution_count": 12,
   "metadata": {},
   "outputs": [],
   "source": [
    "if (num_train_sequences%batch_size) == 0:\n",
    "    steps_per_epoch = int(num_train_sequences/batch_size)\n",
    "else:\n",
    "    steps_per_epoch = (num_train_sequences//batch_size) + 1\n",
    "\n",
    "if (num_val_sequences%batch_size) == 0:\n",
    "    validation_steps = int(num_val_sequences/batch_size)\n",
    "else:\n",
    "    validation_steps = (num_val_sequences//batch_size) + 1"
   ]
  },
  {
   "cell_type": "markdown",
   "metadata": {},
   "source": [
    "Let us now fit the model. This will start training the model and with the help of the checkpoints, you'll be able to save the model at the end of each epoch."
   ]
  },
  {
   "cell_type": "code",
   "execution_count": 13,
   "metadata": {},
   "outputs": [
    {
     "name": "stderr",
     "output_type": "stream",
     "text": [
      "/tmp/ipykernel_664/385748685.py:1: UserWarning: `Model.fit_generator` is deprecated and will be removed in a future version. Please use `Model.fit`, which supports generators.\n",
      "  model.fit_generator(train_generator, steps_per_epoch=steps_per_epoch, epochs=num_epochs, verbose=1,\n"
     ]
    },
    {
     "name": "stdout",
     "output_type": "stream",
     "text": [
      "Source path =  /datasets/Project_data/train ; batch size = 32\n",
      "Epoch 1/10\n"
     ]
    },
    {
     "name": "stderr",
     "output_type": "stream",
     "text": [
      "2024-09-02 12:56:56.307162: I tensorflow/stream_executor/cuda/cuda_dnn.cc:377] Loaded cuDNN version 8302\n"
     ]
    },
    {
     "name": "stdout",
     "output_type": "stream",
     "text": [
      "21/21 [==============================] - ETA: 0s - loss: 12.2888 - categorical_accuracy: 0.3720Source path =  /datasets/Project_data/val ; batch size = 32\n",
      "\n",
      "Epoch 00001: saving model to model_init_2024-09-0212_56_52.893161/model-00001-12.28880-0.37202-9.46373-0.21875.h5\n",
      "21/21 [==============================] - 27s 1s/step - loss: 12.2888 - categorical_accuracy: 0.3720 - val_loss: 9.4637 - val_categorical_accuracy: 0.2188 - lr: 0.0010\n",
      "Epoch 2/10\n",
      "21/21 [==============================] - ETA: 0s - loss: 9.0787 - categorical_accuracy: 0.4509\n",
      "Epoch 00002: saving model to model_init_2024-09-0212_56_52.893161/model-00002-9.07872-0.45089-10.17120-0.15625.h5\n",
      "21/21 [==============================] - 25s 1s/step - loss: 9.0787 - categorical_accuracy: 0.4509 - val_loss: 10.1712 - val_categorical_accuracy: 0.1562 - lr: 0.0010\n",
      "Epoch 3/10\n",
      "21/21 [==============================] - ETA: 0s - loss: 8.0306 - categorical_accuracy: 0.5625\n",
      "Epoch 00003: saving model to model_init_2024-09-0212_56_52.893161/model-00003-8.03055-0.56250-11.72482-0.18750.h5\n",
      "21/21 [==============================] - 24s 1s/step - loss: 8.0306 - categorical_accuracy: 0.5625 - val_loss: 11.7248 - val_categorical_accuracy: 0.1875 - lr: 0.0010\n",
      "Epoch 4/10\n",
      "21/21 [==============================] - ETA: 0s - loss: 7.2313 - categorical_accuracy: 0.6027\n",
      "Epoch 00004: saving model to model_init_2024-09-0212_56_52.893161/model-00004-7.23128-0.60268-11.95828-0.15625.h5\n",
      "21/21 [==============================] - 25s 1s/step - loss: 7.2313 - categorical_accuracy: 0.6027 - val_loss: 11.9583 - val_categorical_accuracy: 0.1562 - lr: 0.0010\n",
      "Epoch 5/10\n",
      "21/21 [==============================] - ETA: 0s - loss: 6.4139 - categorical_accuracy: 0.6756\n",
      "Epoch 00005: saving model to model_init_2024-09-0212_56_52.893161/model-00005-6.41387-0.67560-12.29656-0.15625.h5\n",
      "21/21 [==============================] - 24s 1s/step - loss: 6.4139 - categorical_accuracy: 0.6756 - val_loss: 12.2966 - val_categorical_accuracy: 0.1562 - lr: 0.0010\n",
      "Epoch 6/10\n",
      "21/21 [==============================] - ETA: 0s - loss: 5.8028 - categorical_accuracy: 0.6994\n",
      "Epoch 00006: saving model to model_init_2024-09-0212_56_52.893161/model-00006-5.80283-0.69940-13.49101-0.18750.h5\n",
      "21/21 [==============================] - 24s 1s/step - loss: 5.8028 - categorical_accuracy: 0.6994 - val_loss: 13.4910 - val_categorical_accuracy: 0.1875 - lr: 0.0010\n",
      "Epoch 7/10\n",
      "21/21 [==============================] - ETA: 0s - loss: 5.2216 - categorical_accuracy: 0.6875\n",
      "Epoch 00007: saving model to model_init_2024-09-0212_56_52.893161/model-00007-5.22162-0.68750-11.76201-0.21875.h5\n",
      "21/21 [==============================] - 25s 1s/step - loss: 5.2216 - categorical_accuracy: 0.6875 - val_loss: 11.7620 - val_categorical_accuracy: 0.2188 - lr: 0.0010\n",
      "Epoch 8/10\n",
      "21/21 [==============================] - ETA: 0s - loss: 4.6754 - categorical_accuracy: 0.7604\n",
      "Epoch 00008: saving model to model_init_2024-09-0212_56_52.893161/model-00008-4.67538-0.76042-12.43337-0.21875.h5\n",
      "21/21 [==============================] - 25s 1s/step - loss: 4.6754 - categorical_accuracy: 0.7604 - val_loss: 12.4334 - val_categorical_accuracy: 0.2188 - lr: 0.0010\n",
      "Epoch 9/10\n",
      "21/21 [==============================] - ETA: 0s - loss: 4.2071 - categorical_accuracy: 0.7857\n",
      "Epoch 00009: saving model to model_init_2024-09-0212_56_52.893161/model-00009-4.20708-0.78571-12.09167-0.23438.h5\n",
      "21/21 [==============================] - 26s 1s/step - loss: 4.2071 - categorical_accuracy: 0.7857 - val_loss: 12.0917 - val_categorical_accuracy: 0.2344 - lr: 0.0010\n",
      "Epoch 10/10\n",
      "21/21 [==============================] - ETA: 0s - loss: 3.7976 - categorical_accuracy: 0.8036\n",
      "Epoch 00010: saving model to model_init_2024-09-0212_56_52.893161/model-00010-3.79759-0.80357-10.70950-0.26562.h5\n",
      "21/21 [==============================] - 26s 1s/step - loss: 3.7976 - categorical_accuracy: 0.8036 - val_loss: 10.7095 - val_categorical_accuracy: 0.2656 - lr: 0.0010\n"
     ]
    },
    {
     "data": {
      "text/plain": [
       "<keras.callbacks.History at 0x7fb99ce1a970>"
      ]
     },
     "execution_count": 13,
     "metadata": {},
     "output_type": "execute_result"
    }
   ],
   "source": [
    "model.fit_generator(train_generator, steps_per_epoch=steps_per_epoch, epochs=num_epochs, verbose=1, \n",
    "                    callbacks=callbacks_list, validation_data=val_generator, \n",
    "                    validation_steps=validation_steps, class_weight=None, workers=1, initial_epoch=0)"
   ]
  },
  {
   "cell_type": "markdown",
   "metadata": {},
   "source": [
    "Output:\n",
    "Experiment 1: Baseline Conv3D Model summary:\n",
    "loss: 3.7408 - categorical_accuracy: 0.8080 - val_loss: 10.7707 - val_categorical_accuracy: 0.2734 - lr: 0.0010"
   ]
  },
  {
   "cell_type": "markdown",
   "metadata": {},
   "source": [
    "## Experiment 2: Increasing number of epochs to 20\n"
   ]
  },
  {
   "cell_type": "code",
   "execution_count": 16,
   "metadata": {},
   "outputs": [
    {
     "name": "stdout",
     "output_type": "stream",
     "text": [
      "Epoch 1/20\n",
      "21/21 [==============================] - ETA: 0s - loss: 1.4957 - categorical_accuracy: 0.9077\n",
      "Epoch 00001: saving model to model_init_2024-09-0212_56_52.893161/model-00001-1.49568-0.90774-7.93262-0.28906.h5\n",
      "21/21 [==============================] - 26s 1s/step - loss: 1.4957 - categorical_accuracy: 0.9077 - val_loss: 7.9326 - val_categorical_accuracy: 0.2891 - lr: 0.0010\n",
      "Epoch 2/20\n",
      "21/21 [==============================] - ETA: 0s - loss: 1.4036 - categorical_accuracy: 0.9182\n",
      "Epoch 00002: saving model to model_init_2024-09-0212_56_52.893161/model-00002-1.40364-0.91815-4.53117-0.42969.h5\n",
      "21/21 [==============================] - 25s 1s/step - loss: 1.4036 - categorical_accuracy: 0.9182 - val_loss: 4.5312 - val_categorical_accuracy: 0.4297 - lr: 0.0010\n",
      "Epoch 3/20\n",
      "21/21 [==============================] - ETA: 0s - loss: 1.3121 - categorical_accuracy: 0.9301\n",
      "Epoch 00003: saving model to model_init_2024-09-0212_56_52.893161/model-00003-1.31206-0.93006-8.49994-0.28906.h5\n",
      "21/21 [==============================] - 25s 1s/step - loss: 1.3121 - categorical_accuracy: 0.9301 - val_loss: 8.4999 - val_categorical_accuracy: 0.2891 - lr: 0.0010\n",
      "Epoch 4/20\n",
      "21/21 [==============================] - ETA: 0s - loss: 1.2403 - categorical_accuracy: 0.9301\n",
      "Epoch 00004: saving model to model_init_2024-09-0212_56_52.893161/model-00004-1.24027-0.93006-7.00768-0.35156.h5\n",
      "21/21 [==============================] - 25s 1s/step - loss: 1.2403 - categorical_accuracy: 0.9301 - val_loss: 7.0077 - val_categorical_accuracy: 0.3516 - lr: 0.0010\n",
      "Epoch 5/20\n",
      "21/21 [==============================] - ETA: 0s - loss: 1.1418 - categorical_accuracy: 0.9390\n",
      "Epoch 00005: saving model to model_init_2024-09-0212_56_52.893161/model-00005-1.14178-0.93899-6.83396-0.27344.h5\n",
      "21/21 [==============================] - 26s 1s/step - loss: 1.1418 - categorical_accuracy: 0.9390 - val_loss: 6.8340 - val_categorical_accuracy: 0.2734 - lr: 0.0010\n",
      "Epoch 6/20\n",
      "21/21 [==============================] - ETA: 0s - loss: 1.1412 - categorical_accuracy: 0.9315\n",
      "Epoch 00006: saving model to model_init_2024-09-0212_56_52.893161/model-00006-1.14116-0.93155-3.82815-0.40625.h5\n",
      "21/21 [==============================] - 25s 1s/step - loss: 1.1412 - categorical_accuracy: 0.9315 - val_loss: 3.8282 - val_categorical_accuracy: 0.4062 - lr: 0.0010\n",
      "Epoch 7/20\n",
      "21/21 [==============================] - ETA: 0s - loss: 1.0575 - categorical_accuracy: 0.9405\n",
      "Epoch 00007: saving model to model_init_2024-09-0212_56_52.893161/model-00007-1.05749-0.94048-3.19246-0.49219.h5\n",
      "21/21 [==============================] - 25s 1s/step - loss: 1.0575 - categorical_accuracy: 0.9405 - val_loss: 3.1925 - val_categorical_accuracy: 0.4922 - lr: 0.0010\n",
      "Epoch 8/20\n",
      "21/21 [==============================] - ETA: 0s - loss: 1.0045 - categorical_accuracy: 0.9405\n",
      "Epoch 00008: saving model to model_init_2024-09-0212_56_52.893161/model-00008-1.00448-0.94048-5.21491-0.36719.h5\n",
      "21/21 [==============================] - 25s 1s/step - loss: 1.0045 - categorical_accuracy: 0.9405 - val_loss: 5.2149 - val_categorical_accuracy: 0.3672 - lr: 0.0010\n",
      "Epoch 9/20\n",
      "21/21 [==============================] - ETA: 0s - loss: 0.9817 - categorical_accuracy: 0.9435\n",
      "Epoch 00009: saving model to model_init_2024-09-0212_56_52.893161/model-00009-0.98172-0.94345-3.92039-0.40625.h5\n",
      "21/21 [==============================] - 25s 1s/step - loss: 0.9817 - categorical_accuracy: 0.9435 - val_loss: 3.9204 - val_categorical_accuracy: 0.4062 - lr: 0.0010\n",
      "Epoch 10/20\n",
      "21/21 [==============================] - ETA: 0s - loss: 0.9085 - categorical_accuracy: 0.9598\n",
      "Epoch 00010: saving model to model_init_2024-09-0212_56_52.893161/model-00010-0.90848-0.95982-1.99313-0.65625.h5\n",
      "21/21 [==============================] - 24s 1s/step - loss: 0.9085 - categorical_accuracy: 0.9598 - val_loss: 1.9931 - val_categorical_accuracy: 0.6562 - lr: 0.0010\n",
      "Epoch 11/20\n",
      "21/21 [==============================] - ETA: 0s - loss: 0.9806 - categorical_accuracy: 0.9167\n",
      "Epoch 00011: saving model to model_init_2024-09-0212_56_52.893161/model-00011-0.98064-0.91667-1.80414-0.69531.h5\n",
      "21/21 [==============================] - 25s 1s/step - loss: 0.9806 - categorical_accuracy: 0.9167 - val_loss: 1.8041 - val_categorical_accuracy: 0.6953 - lr: 0.0010\n",
      "Epoch 12/20\n",
      "21/21 [==============================] - ETA: 0s - loss: 0.9850 - categorical_accuracy: 0.9226\n",
      "Epoch 00012: saving model to model_init_2024-09-0212_56_52.893161/model-00012-0.98502-0.92262-4.21513-0.39062.h5\n",
      "21/21 [==============================] - 26s 1s/step - loss: 0.9850 - categorical_accuracy: 0.9226 - val_loss: 4.2151 - val_categorical_accuracy: 0.3906 - lr: 0.0010\n",
      "Epoch 13/20\n",
      "21/21 [==============================] - ETA: 0s - loss: 0.9406 - categorical_accuracy: 0.9449\n",
      "Epoch 00013: saving model to model_init_2024-09-0212_56_52.893161/model-00013-0.94064-0.94494-2.99684-0.53906.h5\n",
      "21/21 [==============================] - 25s 1s/step - loss: 0.9406 - categorical_accuracy: 0.9449 - val_loss: 2.9968 - val_categorical_accuracy: 0.5391 - lr: 0.0010\n",
      "Epoch 14/20\n",
      "21/21 [==============================] - ETA: 0s - loss: 0.8600 - categorical_accuracy: 0.9598\n",
      "Epoch 00014: saving model to model_init_2024-09-0212_56_52.893161/model-00014-0.85998-0.95982-1.85363-0.68750.h5\n",
      "21/21 [==============================] - 25s 1s/step - loss: 0.8600 - categorical_accuracy: 0.9598 - val_loss: 1.8536 - val_categorical_accuracy: 0.6875 - lr: 0.0010\n",
      "Epoch 15/20\n",
      "21/21 [==============================] - ETA: 0s - loss: 0.8144 - categorical_accuracy: 0.9613\n",
      "Epoch 00015: saving model to model_init_2024-09-0212_56_52.893161/model-00015-0.81444-0.96131-2.24130-0.60938.h5\n",
      "21/21 [==============================] - 25s 1s/step - loss: 0.8144 - categorical_accuracy: 0.9613 - val_loss: 2.2413 - val_categorical_accuracy: 0.6094 - lr: 0.0010\n",
      "Epoch 16/20\n",
      "21/21 [==============================] - ETA: 0s - loss: 0.7492 - categorical_accuracy: 0.9688\n",
      "Epoch 00016: saving model to model_init_2024-09-0212_56_52.893161/model-00016-0.74923-0.96875-1.93102-0.64062.h5\n",
      "21/21 [==============================] - 25s 1s/step - loss: 0.7492 - categorical_accuracy: 0.9688 - val_loss: 1.9310 - val_categorical_accuracy: 0.6406 - lr: 0.0010\n",
      "Epoch 17/20\n",
      "21/21 [==============================] - ETA: 0s - loss: 0.7112 - categorical_accuracy: 0.9583\n",
      "Epoch 00017: saving model to model_init_2024-09-0212_56_52.893161/model-00017-0.71116-0.95833-2.03660-0.60938.h5\n",
      "21/21 [==============================] - 25s 1s/step - loss: 0.7112 - categorical_accuracy: 0.9583 - val_loss: 2.0366 - val_categorical_accuracy: 0.6094 - lr: 0.0010\n",
      "Epoch 18/20\n",
      "21/21 [==============================] - ETA: 0s - loss: 0.7156 - categorical_accuracy: 0.9598\n",
      "Epoch 00018: saving model to model_init_2024-09-0212_56_52.893161/model-00018-0.71557-0.95982-2.57259-0.57812.h5\n",
      "21/21 [==============================] - 26s 1s/step - loss: 0.7156 - categorical_accuracy: 0.9598 - val_loss: 2.5726 - val_categorical_accuracy: 0.5781 - lr: 0.0010\n",
      "Epoch 19/20\n",
      "21/21 [==============================] - ETA: 0s - loss: 0.6916 - categorical_accuracy: 0.9643\n",
      "Epoch 00019: saving model to model_init_2024-09-0212_56_52.893161/model-00019-0.69161-0.96429-1.68422-0.67969.h5\n",
      "21/21 [==============================] - 26s 1s/step - loss: 0.6916 - categorical_accuracy: 0.9643 - val_loss: 1.6842 - val_categorical_accuracy: 0.6797 - lr: 0.0010\n",
      "Epoch 20/20\n",
      "21/21 [==============================] - ETA: 0s - loss: 0.7421 - categorical_accuracy: 0.9390\n",
      "Epoch 00020: saving model to model_init_2024-09-0212_56_52.893161/model-00020-0.74208-0.93899-1.64550-0.71094.h5\n",
      "21/21 [==============================] - 25s 1s/step - loss: 0.7421 - categorical_accuracy: 0.9390 - val_loss: 1.6455 - val_categorical_accuracy: 0.7109 - lr: 0.0010\n"
     ]
    },
    {
     "data": {
      "text/plain": [
       "<keras.callbacks.History at 0x7fb9a373fd90>"
      ]
     },
     "execution_count": 16,
     "metadata": {},
     "output_type": "execute_result"
    }
   ],
   "source": [
    "model.fit(train_generator, steps_per_epoch=steps_per_epoch, epochs=20, verbose=1, \n",
    "          callbacks=callbacks_list, validation_data=val_generator, validation_steps=validation_steps)"
   ]
  },
  {
   "cell_type": "markdown",
   "metadata": {},
   "source": [
    "Output:\n",
    "Experiment 2: Increasing number of epochs to 20\n",
    "    loss: 0.7421 - categorical_accuracy: 0.9390 - val_loss: 1.6455 - val_categorical_accuracy: 0.7109"
   ]
  },
  {
   "cell_type": "markdown",
   "metadata": {},
   "source": [
    "## Experiment - 3: Decreasing batch size from 32 to 16\n"
   ]
  },
  {
   "cell_type": "code",
   "execution_count": 20,
   "metadata": {},
   "outputs": [],
   "source": [
    "batch_size = 16"
   ]
  },
  {
   "cell_type": "code",
   "execution_count": 21,
   "metadata": {},
   "outputs": [
    {
     "name": "stdout",
     "output_type": "stream",
     "text": [
      "Model: \"sequential_1\"\n",
      "_________________________________________________________________\n",
      " Layer (type)                Output Shape              Param #   \n",
      "=================================================================\n",
      " conv3d_3 (Conv3D)           (None, 14, 50, 50, 16)    1312      \n",
      "                                                                 \n",
      " activation_5 (Activation)   (None, 14, 50, 50, 16)    0         \n",
      "                                                                 \n",
      " batch_normalization_3 (Batc  (None, 14, 50, 50, 16)   64        \n",
      " hNormalization)                                                 \n",
      "                                                                 \n",
      " max_pooling3d_3 (MaxPooling  (None, 7, 25, 25, 16)    0         \n",
      " 3D)                                                             \n",
      "                                                                 \n",
      " dropout_4 (Dropout)         (None, 7, 25, 25, 16)     0         \n",
      "                                                                 \n",
      " conv3d_4 (Conv3D)           (None, 7, 25, 25, 32)     13856     \n",
      "                                                                 \n",
      " activation_6 (Activation)   (None, 7, 25, 25, 32)     0         \n",
      "                                                                 \n",
      " batch_normalization_4 (Batc  (None, 7, 25, 25, 32)    128       \n",
      " hNormalization)                                                 \n",
      "                                                                 \n",
      " max_pooling3d_4 (MaxPooling  (None, 3, 12, 12, 32)    0         \n",
      " 3D)                                                             \n",
      "                                                                 \n",
      " dropout_5 (Dropout)         (None, 3, 12, 12, 32)     0         \n",
      "                                                                 \n",
      " conv3d_5 (Conv3D)           (None, 3, 12, 12, 64)     55360     \n",
      "                                                                 \n",
      " activation_7 (Activation)   (None, 3, 12, 12, 64)     0         \n",
      "                                                                 \n",
      " batch_normalization_5 (Batc  (None, 3, 12, 12, 64)    256       \n",
      " hNormalization)                                                 \n",
      "                                                                 \n",
      " max_pooling3d_5 (MaxPooling  (None, 1, 6, 6, 64)      0         \n",
      " 3D)                                                             \n",
      "                                                                 \n",
      " dropout_6 (Dropout)         (None, 1, 6, 6, 64)       0         \n",
      "                                                                 \n",
      " flatten_1 (Flatten)         (None, 2304)              0         \n",
      "                                                                 \n",
      " dense_2 (Dense)             (None, 512)               1180160   \n",
      "                                                                 \n",
      " activation_8 (Activation)   (None, 512)               0         \n",
      "                                                                 \n",
      " dropout_7 (Dropout)         (None, 512)               0         \n",
      "                                                                 \n",
      " dense_3 (Dense)             (None, 5)                 2565      \n",
      "                                                                 \n",
      " activation_9 (Activation)   (None, 5)                 0         \n",
      "                                                                 \n",
      "=================================================================\n",
      "Total params: 1,253,701\n",
      "Trainable params: 1,253,477\n",
      "Non-trainable params: 224\n",
      "_________________________________________________________________\n"
     ]
    }
   ],
   "source": [
    "input_shape = (len(np.arange(0, 40, 3)), 50, 50, 3)\n",
    "model = build_conv3d_model(input_shape)\n",
    "model.summary()"
   ]
  },
  {
   "cell_type": "code",
   "execution_count": 22,
   "metadata": {},
   "outputs": [],
   "source": [
    "train_generator3 = generator(train_path, train_doc, batch_size)\n",
    "val_generator3 = generator(val_path, val_doc, batch_size)"
   ]
  },
  {
   "cell_type": "code",
   "execution_count": 23,
   "metadata": {},
   "outputs": [],
   "source": [
    "if (num_train_sequences%batch_size) == 0:\n",
    "    steps_per_epoch = int(num_train_sequences/batch_size)\n",
    "else:\n",
    "    steps_per_epoch = (num_train_sequences//batch_size) + 1\n",
    "\n",
    "if (num_val_sequences%batch_size) == 0:\n",
    "    validation_steps = int(num_val_sequences/batch_size)\n",
    "else:\n",
    "    validation_steps = (num_val_sequences//batch_size) + 1"
   ]
  },
  {
   "cell_type": "code",
   "execution_count": 24,
   "metadata": {},
   "outputs": [
    {
     "name": "stderr",
     "output_type": "stream",
     "text": [
      "/tmp/ipykernel_664/3352504766.py:1: UserWarning: `Model.fit_generator` is deprecated and will be removed in a future version. Please use `Model.fit`, which supports generators.\n",
      "  model.fit_generator(train_generator3, steps_per_epoch=steps_per_epoch, epochs=20, verbose=1,\n"
     ]
    },
    {
     "name": "stdout",
     "output_type": "stream",
     "text": [
      "Source path =  /datasets/Project_data/train ; batch size = 16\n",
      "Epoch 1/20\n",
      "42/42 [==============================] - ETA: 0s - loss: 1.1369 - categorical_accuracy: 0.8586Source path =  /datasets/Project_data/val ; batch size = 16\n",
      "\n",
      "Epoch 00001: saving model to model_init_2024-09-0212_56_52.893161/model-00001-1.13695-0.85863-2.73488-0.58929.h5\n",
      "42/42 [==============================] - 25s 608ms/step - loss: 1.1369 - categorical_accuracy: 0.8586 - val_loss: 2.7349 - val_categorical_accuracy: 0.5893 - lr: 0.0010\n",
      "Epoch 2/20\n",
      "42/42 [==============================] - ETA: 0s - loss: 2.2472 - categorical_accuracy: 0.7574\n",
      "Epoch 00002: saving model to model_init_2024-09-0212_56_52.893161/model-00002-2.24723-0.75744-3.83762-0.56250.h5\n",
      "42/42 [==============================] - 25s 613ms/step - loss: 2.2472 - categorical_accuracy: 0.7574 - val_loss: 3.8376 - val_categorical_accuracy: 0.5625 - lr: 0.0010\n",
      "Epoch 3/20\n",
      "42/42 [==============================] - ETA: 0s - loss: 2.6151 - categorical_accuracy: 0.7902\n",
      "Epoch 00003: saving model to model_init_2024-09-0212_56_52.893161/model-00003-2.61510-0.79018-4.39074-0.60714.h5\n",
      "42/42 [==============================] - 25s 615ms/step - loss: 2.6151 - categorical_accuracy: 0.7902 - val_loss: 4.3907 - val_categorical_accuracy: 0.6071 - lr: 0.0010\n",
      "Epoch 4/20\n",
      "42/42 [==============================] - ETA: 0s - loss: 2.3046 - categorical_accuracy: 0.8378\n",
      "Epoch 00004: saving model to model_init_2024-09-0212_56_52.893161/model-00004-2.30457-0.83780-3.07862-0.66071.h5\n",
      "42/42 [==============================] - 25s 599ms/step - loss: 2.3046 - categorical_accuracy: 0.8378 - val_loss: 3.0786 - val_categorical_accuracy: 0.6607 - lr: 0.0010\n",
      "Epoch 5/20\n",
      "42/42 [==============================] - ETA: 0s - loss: 1.9465 - categorical_accuracy: 0.8810\n",
      "Epoch 00005: saving model to model_init_2024-09-0212_56_52.893161/model-00005-1.94649-0.88095-2.10355-0.80357.h5\n",
      "42/42 [==============================] - 25s 616ms/step - loss: 1.9465 - categorical_accuracy: 0.8810 - val_loss: 2.1036 - val_categorical_accuracy: 0.8036 - lr: 0.0010\n",
      "Epoch 6/20\n",
      "42/42 [==============================] - ETA: 0s - loss: 1.6036 - categorical_accuracy: 0.9241\n",
      "Epoch 00006: saving model to model_init_2024-09-0212_56_52.893161/model-00006-1.60360-0.92411-2.17911-0.83036.h5\n",
      "42/42 [==============================] - 25s 603ms/step - loss: 1.6036 - categorical_accuracy: 0.9241 - val_loss: 2.1791 - val_categorical_accuracy: 0.8304 - lr: 0.0010\n",
      "Epoch 7/20\n",
      "42/42 [==============================] - ETA: 0s - loss: 1.4465 - categorical_accuracy: 0.8988\n",
      "Epoch 00007: saving model to model_init_2024-09-0212_56_52.893161/model-00007-1.44646-0.89881-2.99226-0.63393.h5\n",
      "42/42 [==============================] - 25s 600ms/step - loss: 1.4465 - categorical_accuracy: 0.8988 - val_loss: 2.9923 - val_categorical_accuracy: 0.6339 - lr: 0.0010\n",
      "Epoch 8/20\n",
      "42/42 [==============================] - ETA: 0s - loss: 1.3255 - categorical_accuracy: 0.9301\n",
      "Epoch 00008: saving model to model_init_2024-09-0212_56_52.893161/model-00008-1.32554-0.93006-2.39609-0.67857.h5\n",
      "42/42 [==============================] - 25s 618ms/step - loss: 1.3255 - categorical_accuracy: 0.9301 - val_loss: 2.3961 - val_categorical_accuracy: 0.6786 - lr: 0.0010\n",
      "Epoch 9/20\n",
      "42/42 [==============================] - ETA: 0s - loss: 1.1735 - categorical_accuracy: 0.9435\n",
      "Epoch 00009: saving model to model_init_2024-09-0212_56_52.893161/model-00009-1.17351-0.94345-2.24339-0.60714.h5\n",
      "42/42 [==============================] - 24s 584ms/step - loss: 1.1735 - categorical_accuracy: 0.9435 - val_loss: 2.2434 - val_categorical_accuracy: 0.6071 - lr: 0.0010\n",
      "Epoch 10/20\n",
      "42/42 [==============================] - ETA: 0s - loss: 1.0941 - categorical_accuracy: 0.9301\n",
      "Epoch 00010: saving model to model_init_2024-09-0212_56_52.893161/model-00010-1.09405-0.93006-2.51148-0.58036.h5\n",
      "42/42 [==============================] - 26s 635ms/step - loss: 1.0941 - categorical_accuracy: 0.9301 - val_loss: 2.5115 - val_categorical_accuracy: 0.5804 - lr: 0.0010\n",
      "Epoch 11/20\n",
      "42/42 [==============================] - ETA: 0s - loss: 1.1121 - categorical_accuracy: 0.9315\n",
      "Epoch 00011: saving model to model_init_2024-09-0212_56_52.893161/model-00011-1.11207-0.93155-2.02740-0.66964.h5\n",
      "42/42 [==============================] - 26s 627ms/step - loss: 1.1121 - categorical_accuracy: 0.9315 - val_loss: 2.0274 - val_categorical_accuracy: 0.6696 - lr: 0.0010\n",
      "Epoch 12/20\n",
      "42/42 [==============================] - ETA: 0s - loss: 1.1210 - categorical_accuracy: 0.9286\n",
      "Epoch 00012: saving model to model_init_2024-09-0212_56_52.893161/model-00012-1.12097-0.92857-1.99244-0.64286.h5\n",
      "42/42 [==============================] - 26s 644ms/step - loss: 1.1210 - categorical_accuracy: 0.9286 - val_loss: 1.9924 - val_categorical_accuracy: 0.6429 - lr: 0.0010\n",
      "Epoch 13/20\n",
      "42/42 [==============================] - ETA: 0s - loss: 1.1615 - categorical_accuracy: 0.9211\n",
      "Epoch 00013: saving model to model_init_2024-09-0212_56_52.893161/model-00013-1.16155-0.92113-1.97775-0.70536.h5\n",
      "42/42 [==============================] - 25s 620ms/step - loss: 1.1615 - categorical_accuracy: 0.9211 - val_loss: 1.9778 - val_categorical_accuracy: 0.7054 - lr: 0.0010\n",
      "Epoch 14/20\n",
      "42/42 [==============================] - ETA: 0s - loss: 1.2404 - categorical_accuracy: 0.9122\n",
      "Epoch 00014: saving model to model_init_2024-09-0212_56_52.893161/model-00014-1.24039-0.91220-2.15238-0.68750.h5\n",
      "42/42 [==============================] - 24s 597ms/step - loss: 1.2404 - categorical_accuracy: 0.9122 - val_loss: 2.1524 - val_categorical_accuracy: 0.6875 - lr: 0.0010\n",
      "Epoch 15/20\n",
      "42/42 [==============================] - ETA: 0s - loss: 1.1626 - categorical_accuracy: 0.9405\n",
      "Epoch 00015: saving model to model_init_2024-09-0212_56_52.893161/model-00015-1.16256-0.94048-2.04198-0.65179.h5\n",
      "42/42 [==============================] - 24s 588ms/step - loss: 1.1626 - categorical_accuracy: 0.9405 - val_loss: 2.0420 - val_categorical_accuracy: 0.6518 - lr: 0.0010\n",
      "Epoch 16/20\n",
      "42/42 [==============================] - ETA: 0s - loss: 1.0226 - categorical_accuracy: 0.9598\n",
      "Epoch 00016: saving model to model_init_2024-09-0212_56_52.893161/model-00016-1.02262-0.95982-1.59280-0.75893.h5\n",
      "42/42 [==============================] - 25s 610ms/step - loss: 1.0226 - categorical_accuracy: 0.9598 - val_loss: 1.5928 - val_categorical_accuracy: 0.7589 - lr: 0.0010\n",
      "Epoch 17/20\n",
      "42/42 [==============================] - ETA: 0s - loss: 0.9191 - categorical_accuracy: 0.9658\n",
      "Epoch 00017: saving model to model_init_2024-09-0212_56_52.893161/model-00017-0.91913-0.96577-1.63674-0.77679.h5\n",
      "42/42 [==============================] - 24s 590ms/step - loss: 0.9191 - categorical_accuracy: 0.9658 - val_loss: 1.6367 - val_categorical_accuracy: 0.7768 - lr: 0.0010\n",
      "Epoch 18/20\n",
      "42/42 [==============================] - ETA: 0s - loss: 0.8976 - categorical_accuracy: 0.9628\n",
      "Epoch 00018: saving model to model_init_2024-09-0212_56_52.893161/model-00018-0.89757-0.96280-1.83791-0.66964.h5\n",
      "42/42 [==============================] - 25s 598ms/step - loss: 0.8976 - categorical_accuracy: 0.9628 - val_loss: 1.8379 - val_categorical_accuracy: 0.6696 - lr: 0.0010\n",
      "Epoch 19/20\n",
      "42/42 [==============================] - ETA: 0s - loss: 0.8590 - categorical_accuracy: 0.9613\n",
      "Epoch 00019: saving model to model_init_2024-09-0212_56_52.893161/model-00019-0.85898-0.96131-1.41987-0.81250.h5\n",
      "42/42 [==============================] - 25s 620ms/step - loss: 0.8590 - categorical_accuracy: 0.9613 - val_loss: 1.4199 - val_categorical_accuracy: 0.8125 - lr: 0.0010\n",
      "Epoch 20/20\n",
      "42/42 [==============================] - ETA: 0s - loss: 0.7450 - categorical_accuracy: 0.9792\n",
      "Epoch 00020: saving model to model_init_2024-09-0212_56_52.893161/model-00020-0.74503-0.97917-1.33624-0.80357.h5\n",
      "42/42 [==============================] - 24s 585ms/step - loss: 0.7450 - categorical_accuracy: 0.9792 - val_loss: 1.3362 - val_categorical_accuracy: 0.8036 - lr: 0.0010\n"
     ]
    },
    {
     "data": {
      "text/plain": [
       "<keras.callbacks.History at 0x7fb9aaefb8b0>"
      ]
     },
     "execution_count": 24,
     "metadata": {},
     "output_type": "execute_result"
    }
   ],
   "source": [
    "model.fit_generator(train_generator3, steps_per_epoch=steps_per_epoch, epochs=20, verbose=1, \n",
    "                    callbacks=callbacks_list, validation_data=val_generator3, \n",
    "                    validation_steps=validation_steps, class_weight=None, workers=1, initial_epoch=0)"
   ]
  },
  {
   "cell_type": "markdown",
   "metadata": {},
   "source": [
    "Output:\n",
    "    Experiment 3: Decreasing batch size to 16\n",
    "    loss: 0.7450 - categorical_accuracy: 0.9792 - val_loss: 1.3362 - val_categorical_accuracy: 0.8036"
   ]
  },
  {
   "cell_type": "markdown",
   "metadata": {},
   "source": [
    "## Experiment-4: Building ConvLSTM model\n",
    "\n"
   ]
  },
  {
   "cell_type": "code",
   "execution_count": 27,
   "metadata": {},
   "outputs": [],
   "source": [
    "from keras.layers import  ConvLSTM2D\n"
   ]
  },
  {
   "cell_type": "code",
   "execution_count": 25,
   "metadata": {},
   "outputs": [],
   "source": [
    "# Function to build ConvLSTM model\n",
    "def build_convlstm_model(input_shape):\n",
    "    model = Sequential()\n",
    "    model.add(ConvLSTM2D(32, (3, 3), padding='same', return_sequences=True, input_shape=input_shape))\n",
    "    model.add(BatchNormalization())\n",
    "    \n",
    "    model.add(ConvLSTM2D(64, (3, 3), padding='same', return_sequences=False))\n",
    "    model.add(BatchNormalization())\n",
    "    \n",
    "    model.add(Flatten())\n",
    "    model.add(Dense(512, kernel_regularizer=l2(0.01)))\n",
    "    model.add(Activation('relu'))\n",
    "    model.add(Dropout(0.5))\n",
    "    model.add(Dense(5))\n",
    "    model.add(Activation('softmax'))\n",
    "    \n",
    "    optimiser = optimizers.Adam(learning_rate=0.001)\n",
    "    model.compile(optimizer=optimiser, loss='categorical_crossentropy', metrics=['categorical_accuracy'])\n",
    "    return model"
   ]
  },
  {
   "cell_type": "code",
   "execution_count": 28,
   "metadata": {},
   "outputs": [
    {
     "name": "stdout",
     "output_type": "stream",
     "text": [
      "Model: \"sequential_3\"\n",
      "_________________________________________________________________\n",
      " Layer (type)                Output Shape              Param #   \n",
      "=================================================================\n",
      " conv_lstm2d (ConvLSTM2D)    (None, 14, 50, 50, 32)    40448     \n",
      "                                                                 \n",
      " batch_normalization_6 (Batc  (None, 14, 50, 50, 32)   128       \n",
      " hNormalization)                                                 \n",
      "                                                                 \n",
      " conv_lstm2d_1 (ConvLSTM2D)  (None, 50, 50, 64)        221440    \n",
      "                                                                 \n",
      " batch_normalization_7 (Batc  (None, 50, 50, 64)       256       \n",
      " hNormalization)                                                 \n",
      "                                                                 \n",
      " flatten_2 (Flatten)         (None, 160000)            0         \n",
      "                                                                 \n",
      " dense_4 (Dense)             (None, 512)               81920512  \n",
      "                                                                 \n",
      " activation_10 (Activation)  (None, 512)               0         \n",
      "                                                                 \n",
      " dropout_8 (Dropout)         (None, 512)               0         \n",
      "                                                                 \n",
      " dense_5 (Dense)             (None, 5)                 2565      \n",
      "                                                                 \n",
      " activation_11 (Activation)  (None, 5)                 0         \n",
      "                                                                 \n",
      "=================================================================\n",
      "Total params: 82,185,349\n",
      "Trainable params: 82,185,157\n",
      "Non-trainable params: 192\n",
      "_________________________________________________________________\n"
     ]
    }
   ],
   "source": [
    "input_shape = (len(np.arange(0, 40, 3)), 50, 50, 3)\n",
    "model4 = build_convlstm_model(input_shape)\n",
    "model4.summary()"
   ]
  },
  {
   "cell_type": "code",
   "execution_count": 29,
   "metadata": {},
   "outputs": [],
   "source": [
    "batch_size = 32\n",
    "train_generator4 = generator(train_path, train_doc, batch_size)\n",
    "val_generator4 = generator(val_path, val_doc, batch_size)\n",
    "\n"
   ]
  },
  {
   "cell_type": "code",
   "execution_count": 30,
   "metadata": {},
   "outputs": [
    {
     "name": "stdout",
     "output_type": "stream",
     "text": [
      "Source path =  /datasets/Project_data/train ; batch size = 32\n",
      "Epoch 1/10\n",
      "42/42 [==============================] - ETA: 0s - loss: 43.5839 - categorical_accuracy: 0.3356Source path =  /datasets/Project_data/val ; batch size = 32\n",
      "\n",
      "Epoch 00001: saving model to model_init_2024-09-0212_56_52.893161/model-00001-43.58387-0.33557-34.74380-0.18304.h5\n",
      "42/42 [==============================] - 57s 1s/step - loss: 43.5839 - categorical_accuracy: 0.3356 - val_loss: 34.7438 - val_categorical_accuracy: 0.1830 - lr: 0.0010\n",
      "Epoch 2/10\n",
      "42/42 [==============================] - ETA: 0s - loss: 27.7915 - categorical_accuracy: 0.3787\n",
      "Epoch 00002: saving model to model_init_2024-09-0212_56_52.893161/model-00002-27.79152-0.37872-23.10341-0.28125.h5\n",
      "42/42 [==============================] - 52s 1s/step - loss: 27.7915 - categorical_accuracy: 0.3787 - val_loss: 23.1034 - val_categorical_accuracy: 0.2812 - lr: 0.0010\n",
      "Epoch 3/10\n",
      "42/42 [==============================] - ETA: 0s - loss: 17.6541 - categorical_accuracy: 0.4077\n",
      "Epoch 00003: saving model to model_init_2024-09-0212_56_52.893161/model-00003-17.65413-0.40774-14.68094-0.32589.h5\n",
      "42/42 [==============================] - 52s 1s/step - loss: 17.6541 - categorical_accuracy: 0.4077 - val_loss: 14.6809 - val_categorical_accuracy: 0.3259 - lr: 0.0010\n",
      "Epoch 4/10\n",
      "42/42 [==============================] - ETA: 0s - loss: 10.9335 - categorical_accuracy: 0.4516\n",
      "Epoch 00004: saving model to model_init_2024-09-0212_56_52.893161/model-00004-10.93346-0.45164-10.60450-0.31696.h5\n",
      "42/42 [==============================] - 52s 1s/step - loss: 10.9335 - categorical_accuracy: 0.4516 - val_loss: 10.6045 - val_categorical_accuracy: 0.3170 - lr: 0.0010\n",
      "Epoch 5/10\n",
      "42/42 [==============================] - ETA: 0s - loss: 7.3251 - categorical_accuracy: 0.4688\n",
      "Epoch 00005: saving model to model_init_2024-09-0212_56_52.893161/model-00005-7.32511-0.46875-7.09164-0.44196.h5\n",
      "42/42 [==============================] - 51s 1s/step - loss: 7.3251 - categorical_accuracy: 0.4688 - val_loss: 7.0916 - val_categorical_accuracy: 0.4420 - lr: 0.0010\n",
      "Epoch 6/10\n",
      "42/42 [==============================] - ETA: 0s - loss: 5.2978 - categorical_accuracy: 0.4643\n",
      "Epoch 00006: saving model to model_init_2024-09-0212_56_52.893161/model-00006-5.29781-0.46429-5.10902-0.42411.h5\n",
      "42/42 [==============================] - 51s 1s/step - loss: 5.2978 - categorical_accuracy: 0.4643 - val_loss: 5.1090 - val_categorical_accuracy: 0.4241 - lr: 0.0010\n",
      "Epoch 7/10\n",
      "42/42 [==============================] - ETA: 0s - loss: 3.7869 - categorical_accuracy: 0.4926\n",
      "Epoch 00007: saving model to model_init_2024-09-0212_56_52.893161/model-00007-3.78689-0.49256-3.92036-0.40179.h5\n",
      "42/42 [==============================] - 52s 1s/step - loss: 3.7869 - categorical_accuracy: 0.4926 - val_loss: 3.9204 - val_categorical_accuracy: 0.4018 - lr: 0.0010\n",
      "Epoch 8/10\n",
      "42/42 [==============================] - ETA: 0s - loss: 3.5306 - categorical_accuracy: 0.5141\n",
      "Epoch 00008: saving model to model_init_2024-09-0212_56_52.893161/model-00008-3.53060-0.51414-3.84907-0.45982.h5\n",
      "42/42 [==============================] - 52s 1s/step - loss: 3.5306 - categorical_accuracy: 0.5141 - val_loss: 3.8491 - val_categorical_accuracy: 0.4598 - lr: 0.0010\n",
      "Epoch 9/10\n",
      "42/42 [==============================] - ETA: 0s - loss: 3.7351 - categorical_accuracy: 0.5394\n",
      "Epoch 00009: saving model to model_init_2024-09-0212_56_52.893161/model-00009-3.73514-0.53943-4.50682-0.42857.h5\n",
      "42/42 [==============================] - 51s 1s/step - loss: 3.7351 - categorical_accuracy: 0.5394 - val_loss: 4.5068 - val_categorical_accuracy: 0.4286 - lr: 0.0010\n",
      "Epoch 10/10\n",
      "42/42 [==============================] - ETA: 0s - loss: 3.6389 - categorical_accuracy: 0.4978\n",
      "Epoch 00010: saving model to model_init_2024-09-0212_56_52.893161/model-00010-3.63893-0.49777-3.55804-0.60268.h5\n",
      "42/42 [==============================] - 52s 1s/step - loss: 3.6389 - categorical_accuracy: 0.4978 - val_loss: 3.5580 - val_categorical_accuracy: 0.6027 - lr: 0.0010\n"
     ]
    },
    {
     "data": {
      "text/plain": [
       "<keras.callbacks.History at 0x7fb9ac75e820>"
      ]
     },
     "execution_count": 30,
     "metadata": {},
     "output_type": "execute_result"
    }
   ],
   "source": [
    "model4.fit(train_generator4, steps_per_epoch=steps_per_epoch, epochs=10, verbose=1, \n",
    "          callbacks=callbacks_list, validation_data=val_generator4, validation_steps=validation_steps)\n"
   ]
  },
  {
   "cell_type": "markdown",
   "metadata": {},
   "source": [
    "Output: Experiment 4: Building ConvLSTM model\n",
    " loss: 3.6389 - categorical_accuracy: 0.4978 - val_loss: 3.5580 - val_categorical_accuracy: 0.6027"
   ]
  },
  {
   "cell_type": "markdown",
   "metadata": {},
   "source": [
    "## Experiment-5: ConvLSTM model: Increasing num of epochs to 20\n"
   ]
  },
  {
   "cell_type": "code",
   "execution_count": 32,
   "metadata": {},
   "outputs": [
    {
     "name": "stdout",
     "output_type": "stream",
     "text": [
      "Epoch 1/20\n",
      "42/42 [==============================] - ETA: 0s - loss: 2.1382 - categorical_accuracy: 0.7946\n",
      "Epoch 00001: saving model to model_init_2024-09-0212_56_52.893161/model-00001-2.13821-0.79464-2.84785-0.51786.h5\n"
     ]
    },
    {
     "ename": "OSError",
     "evalue": "Can't write data (file write failed: time = Mon Sep  2 14:16:18 2024\n, filename = 'model_init_2024-09-0212_56_52.893161/model-00001-2.13821-0.79464-2.84785-0.51786.h5', file descriptor = 86, errno = 28, error message = 'No space left on device', buf = 0x7fb208f06b70, total write size = 327644320, bytes this sub-write = 327644320, bytes actually written = 18446744073709551615, offset = 0)",
     "output_type": "error",
     "traceback": [
      "\u001b[0;31m---------------------------------------------------------------------------\u001b[0m",
      "\u001b[0;31mOSError\u001b[0m                                   Traceback (most recent call last)",
      "\u001b[0;32m/tmp/ipykernel_664/481318186.py\u001b[0m in \u001b[0;36m<module>\u001b[0;34m\u001b[0m\n\u001b[0;32m----> 1\u001b[0;31m model4.fit(train_generator4, steps_per_epoch=steps_per_epoch, epochs=20, verbose=1, \n\u001b[0m\u001b[1;32m      2\u001b[0m           callbacks=callbacks_list, validation_data=val_generator4, validation_steps=validation_steps)\n",
      "\u001b[0;32m/usr/local/lib/python3.8/dist-packages/keras/utils/traceback_utils.py\u001b[0m in \u001b[0;36merror_handler\u001b[0;34m(*args, **kwargs)\u001b[0m\n\u001b[1;32m     65\u001b[0m     \u001b[0;32mexcept\u001b[0m \u001b[0mException\u001b[0m \u001b[0;32mas\u001b[0m \u001b[0me\u001b[0m\u001b[0;34m:\u001b[0m  \u001b[0;31m# pylint: disable=broad-except\u001b[0m\u001b[0;34m\u001b[0m\u001b[0;34m\u001b[0m\u001b[0m\n\u001b[1;32m     66\u001b[0m       \u001b[0mfiltered_tb\u001b[0m \u001b[0;34m=\u001b[0m \u001b[0m_process_traceback_frames\u001b[0m\u001b[0;34m(\u001b[0m\u001b[0me\u001b[0m\u001b[0;34m.\u001b[0m\u001b[0m__traceback__\u001b[0m\u001b[0;34m)\u001b[0m\u001b[0;34m\u001b[0m\u001b[0;34m\u001b[0m\u001b[0m\n\u001b[0;32m---> 67\u001b[0;31m       \u001b[0;32mraise\u001b[0m \u001b[0me\u001b[0m\u001b[0;34m.\u001b[0m\u001b[0mwith_traceback\u001b[0m\u001b[0;34m(\u001b[0m\u001b[0mfiltered_tb\u001b[0m\u001b[0;34m)\u001b[0m \u001b[0;32mfrom\u001b[0m \u001b[0;32mNone\u001b[0m\u001b[0;34m\u001b[0m\u001b[0;34m\u001b[0m\u001b[0m\n\u001b[0m\u001b[1;32m     68\u001b[0m     \u001b[0;32mfinally\u001b[0m\u001b[0;34m:\u001b[0m\u001b[0;34m\u001b[0m\u001b[0;34m\u001b[0m\u001b[0m\n\u001b[1;32m     69\u001b[0m       \u001b[0;32mdel\u001b[0m \u001b[0mfiltered_tb\u001b[0m\u001b[0;34m\u001b[0m\u001b[0;34m\u001b[0m\u001b[0m\n",
      "\u001b[0;32mh5py/_objects.pyx\u001b[0m in \u001b[0;36mh5py._objects.with_phil.wrapper\u001b[0;34m()\u001b[0m\n",
      "\u001b[0;32mh5py/_objects.pyx\u001b[0m in \u001b[0;36mh5py._objects.with_phil.wrapper\u001b[0;34m()\u001b[0m\n",
      "\u001b[0;32m/usr/local/lib/python3.8/dist-packages/h5py/_hl/dataset.py\u001b[0m in \u001b[0;36m__setitem__\u001b[0;34m(self, args, val)\u001b[0m\n\u001b[1;32m    943\u001b[0m         \u001b[0mmspace\u001b[0m \u001b[0;34m=\u001b[0m \u001b[0mh5s\u001b[0m\u001b[0;34m.\u001b[0m\u001b[0mcreate_simple\u001b[0m\u001b[0;34m(\u001b[0m\u001b[0mselection\u001b[0m\u001b[0;34m.\u001b[0m\u001b[0mexpand_shape\u001b[0m\u001b[0;34m(\u001b[0m\u001b[0mmshape\u001b[0m\u001b[0;34m)\u001b[0m\u001b[0;34m)\u001b[0m\u001b[0;34m\u001b[0m\u001b[0;34m\u001b[0m\u001b[0m\n\u001b[1;32m    944\u001b[0m         \u001b[0;32mfor\u001b[0m \u001b[0mfspace\u001b[0m \u001b[0;32min\u001b[0m \u001b[0mselection\u001b[0m\u001b[0;34m.\u001b[0m\u001b[0mbroadcast\u001b[0m\u001b[0;34m(\u001b[0m\u001b[0mmshape\u001b[0m\u001b[0;34m)\u001b[0m\u001b[0;34m:\u001b[0m\u001b[0;34m\u001b[0m\u001b[0;34m\u001b[0m\u001b[0m\n\u001b[0;32m--> 945\u001b[0;31m             \u001b[0mself\u001b[0m\u001b[0;34m.\u001b[0m\u001b[0mid\u001b[0m\u001b[0;34m.\u001b[0m\u001b[0mwrite\u001b[0m\u001b[0;34m(\u001b[0m\u001b[0mmspace\u001b[0m\u001b[0;34m,\u001b[0m \u001b[0mfspace\u001b[0m\u001b[0;34m,\u001b[0m \u001b[0mval\u001b[0m\u001b[0;34m,\u001b[0m \u001b[0mmtype\u001b[0m\u001b[0;34m,\u001b[0m \u001b[0mdxpl\u001b[0m\u001b[0;34m=\u001b[0m\u001b[0mself\u001b[0m\u001b[0;34m.\u001b[0m\u001b[0m_dxpl\u001b[0m\u001b[0;34m)\u001b[0m\u001b[0;34m\u001b[0m\u001b[0;34m\u001b[0m\u001b[0m\n\u001b[0m\u001b[1;32m    946\u001b[0m \u001b[0;34m\u001b[0m\u001b[0m\n\u001b[1;32m    947\u001b[0m     \u001b[0;32mdef\u001b[0m \u001b[0mread_direct\u001b[0m\u001b[0;34m(\u001b[0m\u001b[0mself\u001b[0m\u001b[0;34m,\u001b[0m \u001b[0mdest\u001b[0m\u001b[0;34m,\u001b[0m \u001b[0msource_sel\u001b[0m\u001b[0;34m=\u001b[0m\u001b[0;32mNone\u001b[0m\u001b[0;34m,\u001b[0m \u001b[0mdest_sel\u001b[0m\u001b[0;34m=\u001b[0m\u001b[0;32mNone\u001b[0m\u001b[0;34m)\u001b[0m\u001b[0;34m:\u001b[0m\u001b[0;34m\u001b[0m\u001b[0;34m\u001b[0m\u001b[0m\n",
      "\u001b[0;32mh5py/_objects.pyx\u001b[0m in \u001b[0;36mh5py._objects.with_phil.wrapper\u001b[0;34m()\u001b[0m\n",
      "\u001b[0;32mh5py/_objects.pyx\u001b[0m in \u001b[0;36mh5py._objects.with_phil.wrapper\u001b[0;34m()\u001b[0m\n",
      "\u001b[0;32mh5py/h5d.pyx\u001b[0m in \u001b[0;36mh5py.h5d.DatasetID.write\u001b[0;34m()\u001b[0m\n",
      "\u001b[0;32mh5py/_proxy.pyx\u001b[0m in \u001b[0;36mh5py._proxy.dset_rw\u001b[0;34m()\u001b[0m\n",
      "\u001b[0;31mOSError\u001b[0m: Can't write data (file write failed: time = Mon Sep  2 14:16:18 2024\n, filename = 'model_init_2024-09-0212_56_52.893161/model-00001-2.13821-0.79464-2.84785-0.51786.h5', file descriptor = 86, errno = 28, error message = 'No space left on device', buf = 0x7fb208f06b70, total write size = 327644320, bytes this sub-write = 327644320, bytes actually written = 18446744073709551615, offset = 0)"
     ]
    }
   ],
   "source": [
    "model4.fit(train_generator4, steps_per_epoch=steps_per_epoch, epochs=20, verbose=1, \n",
    "          callbacks=callbacks_list, validation_data=val_generator4, validation_steps=validation_steps)"
   ]
  },
  {
   "cell_type": "markdown",
   "metadata": {},
   "source": [
    "Output: Experiment-5: ConvLSTM model: Increasing num of epochs to 20\n",
    "Not able to complete due to disk error, tried deleting the files and still ending up with same error"
   ]
  },
  {
   "cell_type": "markdown",
   "metadata": {},
   "source": [
    "## Experiment - 6: CNN + RNN model"
   ]
  },
  {
   "cell_type": "code",
   "execution_count": 41,
   "metadata": {},
   "outputs": [],
   "source": [
    "from keras.layers import Conv2D, MaxPooling2D, LSTM\n",
    "from keras.callbacks import ModelCheckpoint, EarlyStopping\n"
   ]
  },
  {
   "cell_type": "code",
   "execution_count": 35,
   "metadata": {},
   "outputs": [],
   "source": [
    "# CNN + LSTM Model\n",
    "def build_cnn_lstm_model(input_shape):\n",
    "    model = Sequential()\n",
    "    \n",
    "    # CNN Layers\n",
    "    model.add(TimeDistributed(Conv2D(32, (3, 3), padding='same', activation='relu'), input_shape=input_shape))\n",
    "    model.add(TimeDistributed(BatchNormalization()))\n",
    "    model.add(TimeDistributed(MaxPooling2D(pool_size=(2, 2))))\n",
    "    model.add(TimeDistributed(Dropout(0.25)))\n",
    "    \n",
    "    model.add(TimeDistributed(Conv2D(64, (3, 3), padding='same', activation='relu')))\n",
    "    model.add(TimeDistributed(BatchNormalization()))\n",
    "    model.add(TimeDistributed(MaxPooling2D(pool_size=(2, 2))))\n",
    "    model.add(TimeDistributed(Dropout(0.25)))\n",
    "    \n",
    "    model.add(TimeDistributed(Conv2D(128, (3, 3), padding='same', activation='relu')))\n",
    "    model.add(TimeDistributed(BatchNormalization()))\n",
    "    model.add(TimeDistributed(MaxPooling2D(pool_size=(2, 2))))\n",
    "    model.add(TimeDistributed(Dropout(0.25)))\n",
    "    \n",
    "    # Flatten the output and feed into LSTM\n",
    "    model.add(TimeDistributed(Flatten()))\n",
    "    \n",
    "    # LSTM Layers\n",
    "    model.add(LSTM(256, return_sequences=False, dropout=0.5, recurrent_dropout=0.5))\n",
    "    \n",
    "    # Fully Connected Layer\n",
    "    model.add(Dense(512, activation='relu', kernel_regularizer=l2(0.01)))\n",
    "    model.add(Dropout(0.5))\n",
    "    \n",
    "    # Output Layer\n",
    "    model.add(Dense(5, activation='softmax'))\n",
    "    \n",
    "    # Compile the model\n",
    "    optimiser = optimizers.Adam(learning_rate=0.001)\n",
    "    model.compile(optimizer=optimiser, loss='categorical_crossentropy', metrics=['categorical_accuracy'])\n",
    "    \n",
    "    return model\n"
   ]
  },
  {
   "cell_type": "code",
   "execution_count": 36,
   "metadata": {},
   "outputs": [],
   "source": [
    "# Parameters\n",
    "input_shape = (10, 64, 64, 3)  # Example shape (10 frames, 64x64 pixels, 3 channels)\n",
    "batch_size = 32\n",
    "num_epochs = 20"
   ]
  },
  {
   "cell_type": "code",
   "execution_count": 39,
   "metadata": {},
   "outputs": [
    {
     "name": "stdout",
     "output_type": "stream",
     "text": [
      "WARNING:tensorflow:Layer lstm will not use cuDNN kernels since it doesn't meet the criteria. It will use a generic GPU kernel as fallback when running on GPU.\n",
      "Model: \"sequential_5\"\n",
      "_________________________________________________________________\n",
      " Layer (type)                Output Shape              Param #   \n",
      "=================================================================\n",
      " time_distributed_13 (TimeDi  (None, 10, 64, 64, 32)   896       \n",
      " stributed)                                                      \n",
      "                                                                 \n",
      " time_distributed_14 (TimeDi  (None, 10, 64, 64, 32)   128       \n",
      " stributed)                                                      \n",
      "                                                                 \n",
      " time_distributed_15 (TimeDi  (None, 10, 32, 32, 32)   0         \n",
      " stributed)                                                      \n",
      "                                                                 \n",
      " time_distributed_16 (TimeDi  (None, 10, 32, 32, 32)   0         \n",
      " stributed)                                                      \n",
      "                                                                 \n",
      " time_distributed_17 (TimeDi  (None, 10, 32, 32, 64)   18496     \n",
      " stributed)                                                      \n",
      "                                                                 \n",
      " time_distributed_18 (TimeDi  (None, 10, 32, 32, 64)   256       \n",
      " stributed)                                                      \n",
      "                                                                 \n",
      " time_distributed_19 (TimeDi  (None, 10, 16, 16, 64)   0         \n",
      " stributed)                                                      \n",
      "                                                                 \n",
      " time_distributed_20 (TimeDi  (None, 10, 16, 16, 64)   0         \n",
      " stributed)                                                      \n",
      "                                                                 \n",
      " time_distributed_21 (TimeDi  (None, 10, 16, 16, 128)  73856     \n",
      " stributed)                                                      \n",
      "                                                                 \n",
      " time_distributed_22 (TimeDi  (None, 10, 16, 16, 128)  512       \n",
      " stributed)                                                      \n",
      "                                                                 \n",
      " time_distributed_23 (TimeDi  (None, 10, 8, 8, 128)    0         \n",
      " stributed)                                                      \n",
      "                                                                 \n",
      " time_distributed_24 (TimeDi  (None, 10, 8, 8, 128)    0         \n",
      " stributed)                                                      \n",
      "                                                                 \n",
      " time_distributed_25 (TimeDi  (None, 10, 8192)         0         \n",
      " stributed)                                                      \n",
      "                                                                 \n",
      " lstm (LSTM)                 (None, 256)               8651776   \n",
      "                                                                 \n",
      " dense_6 (Dense)             (None, 512)               131584    \n",
      "                                                                 \n",
      " dropout_15 (Dropout)        (None, 512)               0         \n",
      "                                                                 \n",
      " dense_7 (Dense)             (None, 5)                 2565      \n",
      "                                                                 \n",
      "=================================================================\n",
      "Total params: 8,880,069\n",
      "Trainable params: 8,879,621\n",
      "Non-trainable params: 448\n",
      "_________________________________________________________________\n"
     ]
    }
   ],
   "source": [
    "# Model Setup\n",
    "model = build_cnn_lstm_model(input_shape)\n",
    "\n",
    "# Model Summary\n",
    "model.summary()"
   ]
  },
  {
   "cell_type": "code",
   "execution_count": 42,
   "metadata": {},
   "outputs": [],
   "source": [
    "# Callbacks for learning rate reduction and early stopping\n",
    "LR = ReduceLROnPlateau(monitor='val_loss', factor=0.2, patience=5, min_lr=0.00001, verbose=1)\n",
    "early_stopping = EarlyStopping(monitor='val_loss', patience=10, restore_best_weights=True)\n"
   ]
  },
  {
   "cell_type": "code",
   "execution_count": 43,
   "metadata": {},
   "outputs": [],
   "source": [
    "## fix for disk memory issue to only save the model with best accuracy\n",
    "\n",
    "# Checkpoints to save the best model\n",
    "checkpoint = ModelCheckpoint('best_model.h5', monitor='val_loss', save_best_only=True, verbose=1)\n"
   ]
  },
  {
   "cell_type": "code",
   "execution_count": 44,
   "metadata": {},
   "outputs": [],
   "source": [
    "# Combine Callbacks\n",
    "callbacks_list = [checkpoint, LR, early_stopping]"
   ]
  },
  {
   "cell_type": "code",
   "execution_count": 48,
   "metadata": {},
   "outputs": [
    {
     "name": "stdout",
     "output_type": "stream",
     "text": [
      "Epoch 1/20\n",
      "42/42 [==============================] - ETA: 0s - loss: 0.2385 - categorical_accuracy: 1.0000\n",
      "Epoch 00001: val_loss improved from 0.95903 to 0.95001, saving model to best_model.h5\n",
      "42/42 [==============================] - 48s 1s/step - loss: 0.2385 - categorical_accuracy: 1.0000 - val_loss: 0.9500 - val_categorical_accuracy: 0.8125 - lr: 2.0000e-04\n",
      "Epoch 2/20\n",
      "42/42 [==============================] - ETA: 0s - loss: 0.2229 - categorical_accuracy: 0.9985\n",
      "Epoch 00002: val_loss improved from 0.95001 to 0.87061, saving model to best_model.h5\n",
      "42/42 [==============================] - 47s 1s/step - loss: 0.2229 - categorical_accuracy: 0.9985 - val_loss: 0.8706 - val_categorical_accuracy: 0.8170 - lr: 2.0000e-04\n",
      "Epoch 3/20\n",
      "42/42 [==============================] - ETA: 0s - loss: 0.2046 - categorical_accuracy: 0.9985\n",
      "Epoch 00003: val_loss did not improve from 0.87061\n",
      "42/42 [==============================] - 48s 1s/step - loss: 0.2046 - categorical_accuracy: 0.9985 - val_loss: 0.9199 - val_categorical_accuracy: 0.7902 - lr: 2.0000e-04\n",
      "Epoch 4/20\n",
      "42/42 [==============================] - ETA: 0s - loss: 0.1908 - categorical_accuracy: 0.9985\n",
      "Epoch 00004: val_loss improved from 0.87061 to 0.78364, saving model to best_model.h5\n",
      "42/42 [==============================] - 48s 1s/step - loss: 0.1908 - categorical_accuracy: 0.9985 - val_loss: 0.7836 - val_categorical_accuracy: 0.8214 - lr: 2.0000e-04\n",
      "Epoch 5/20\n",
      "42/42 [==============================] - ETA: 0s - loss: 0.1767 - categorical_accuracy: 0.9993\n",
      "Epoch 00005: val_loss improved from 0.78364 to 0.72571, saving model to best_model.h5\n",
      "42/42 [==============================] - 49s 1s/step - loss: 0.1767 - categorical_accuracy: 0.9993 - val_loss: 0.7257 - val_categorical_accuracy: 0.8393 - lr: 2.0000e-04\n",
      "Epoch 6/20\n",
      "42/42 [==============================] - ETA: 0s - loss: 0.1634 - categorical_accuracy: 1.0000\n",
      "Epoch 00006: val_loss did not improve from 0.72571\n",
      "42/42 [==============================] - 48s 1s/step - loss: 0.1634 - categorical_accuracy: 1.0000 - val_loss: 0.7943 - val_categorical_accuracy: 0.8080 - lr: 2.0000e-04\n",
      "Epoch 7/20\n",
      "42/42 [==============================] - ETA: 0s - loss: 0.1551 - categorical_accuracy: 0.9978\n",
      "Epoch 00007: val_loss did not improve from 0.72571\n",
      "42/42 [==============================] - 48s 1s/step - loss: 0.1551 - categorical_accuracy: 0.9978 - val_loss: 0.8263 - val_categorical_accuracy: 0.8170 - lr: 2.0000e-04\n",
      "Epoch 8/20\n",
      "42/42 [==============================] - ETA: 0s - loss: 0.1441 - categorical_accuracy: 0.9978\n",
      "Epoch 00008: val_loss did not improve from 0.72571\n",
      "42/42 [==============================] - 48s 1s/step - loss: 0.1441 - categorical_accuracy: 0.9978 - val_loss: 0.8442 - val_categorical_accuracy: 0.7812 - lr: 2.0000e-04\n",
      "Epoch 9/20\n",
      "42/42 [==============================] - ETA: 0s - loss: 0.1335 - categorical_accuracy: 0.9993\n",
      "Epoch 00009: val_loss did not improve from 0.72571\n",
      "42/42 [==============================] - 47s 1s/step - loss: 0.1335 - categorical_accuracy: 0.9993 - val_loss: 0.7943 - val_categorical_accuracy: 0.7812 - lr: 2.0000e-04\n",
      "Epoch 10/20\n",
      "42/42 [==============================] - ETA: 0s - loss: 0.1288 - categorical_accuracy: 0.9985\n",
      "Epoch 00010: val_loss did not improve from 0.72571\n",
      "\n",
      "Epoch 00010: ReduceLROnPlateau reducing learning rate to 4.0000001899898055e-05.\n",
      "42/42 [==============================] - 47s 1s/step - loss: 0.1288 - categorical_accuracy: 0.9985 - val_loss: 0.8527 - val_categorical_accuracy: 0.8259 - lr: 2.0000e-04\n",
      "Epoch 11/20\n",
      "42/42 [==============================] - ETA: 0s - loss: 0.1207 - categorical_accuracy: 0.9993\n",
      "Epoch 00011: val_loss did not improve from 0.72571\n",
      "42/42 [==============================] - 47s 1s/step - loss: 0.1207 - categorical_accuracy: 0.9993 - val_loss: 0.8362 - val_categorical_accuracy: 0.7946 - lr: 4.0000e-05\n",
      "Epoch 12/20\n",
      "42/42 [==============================] - ETA: 0s - loss: 0.1190 - categorical_accuracy: 0.9993\n",
      "Epoch 00012: val_loss did not improve from 0.72571\n",
      "42/42 [==============================] - 48s 1s/step - loss: 0.1190 - categorical_accuracy: 0.9993 - val_loss: 0.8122 - val_categorical_accuracy: 0.7991 - lr: 4.0000e-05\n",
      "Epoch 13/20\n",
      "42/42 [==============================] - ETA: 0s - loss: 0.1174 - categorical_accuracy: 0.9993\n",
      "Epoch 00013: val_loss did not improve from 0.72571\n",
      "42/42 [==============================] - 48s 1s/step - loss: 0.1174 - categorical_accuracy: 0.9993 - val_loss: 0.8235 - val_categorical_accuracy: 0.8036 - lr: 4.0000e-05\n",
      "Epoch 14/20\n",
      "42/42 [==============================] - ETA: 0s - loss: 0.1156 - categorical_accuracy: 0.9993\n",
      "Epoch 00014: val_loss did not improve from 0.72571\n",
      "42/42 [==============================] - 49s 1s/step - loss: 0.1156 - categorical_accuracy: 0.9993 - val_loss: 0.7632 - val_categorical_accuracy: 0.8125 - lr: 4.0000e-05\n",
      "Epoch 15/20\n",
      "42/42 [==============================] - ETA: 0s - loss: 0.1102 - categorical_accuracy: 1.0000\n",
      "Epoch 00015: val_loss improved from 0.72571 to 0.70808, saving model to best_model.h5\n",
      "42/42 [==============================] - 48s 1s/step - loss: 0.1102 - categorical_accuracy: 1.0000 - val_loss: 0.7081 - val_categorical_accuracy: 0.8259 - lr: 4.0000e-05\n",
      "Epoch 16/20\n",
      "42/42 [==============================] - ETA: 0s - loss: 0.1111 - categorical_accuracy: 0.9993\n",
      "Epoch 00016: val_loss did not improve from 0.70808\n",
      "42/42 [==============================] - 48s 1s/step - loss: 0.1111 - categorical_accuracy: 0.9993 - val_loss: 0.7596 - val_categorical_accuracy: 0.8036 - lr: 4.0000e-05\n",
      "Epoch 17/20\n",
      "42/42 [==============================] - ETA: 0s - loss: 0.1081 - categorical_accuracy: 1.0000\n",
      "Epoch 00017: val_loss did not improve from 0.70808\n",
      "42/42 [==============================] - 48s 1s/step - loss: 0.1081 - categorical_accuracy: 1.0000 - val_loss: 0.7480 - val_categorical_accuracy: 0.8036 - lr: 4.0000e-05\n",
      "Epoch 18/20\n",
      "42/42 [==============================] - ETA: 0s - loss: 0.1092 - categorical_accuracy: 0.9978\n",
      "Epoch 00018: val_loss improved from 0.70808 to 0.70265, saving model to best_model.h5\n",
      "42/42 [==============================] - 48s 1s/step - loss: 0.1092 - categorical_accuracy: 0.9978 - val_loss: 0.7027 - val_categorical_accuracy: 0.8304 - lr: 4.0000e-05\n",
      "Epoch 19/20\n",
      "42/42 [==============================] - ETA: 0s - loss: 0.1048 - categorical_accuracy: 0.9993\n",
      "Epoch 00019: val_loss improved from 0.70265 to 0.70251, saving model to best_model.h5\n",
      "42/42 [==============================] - 50s 1s/step - loss: 0.1048 - categorical_accuracy: 0.9993 - val_loss: 0.7025 - val_categorical_accuracy: 0.8348 - lr: 4.0000e-05\n",
      "Epoch 20/20\n",
      "42/42 [==============================] - ETA: 0s - loss: 0.1021 - categorical_accuracy: 1.0000\n",
      "Epoch 00020: val_loss did not improve from 0.70251\n",
      "42/42 [==============================] - 48s 1s/step - loss: 0.1021 - categorical_accuracy: 1.0000 - val_loss: 0.7183 - val_categorical_accuracy: 0.8170 - lr: 4.0000e-05\n"
     ]
    }
   ],
   "source": [
    "# Train the Model\n",
    "history = model.fit(train_generator, steps_per_epoch=steps_per_epoch, epochs=num_epochs, verbose=1, \n",
    "                    callbacks=callbacks_list, validation_data=val_generator, validation_steps=validation_steps)\n"
   ]
  },
  {
   "cell_type": "markdown",
   "metadata": {},
   "source": [
    "Output: Experiment-6: CNN + RNN model: \n",
    "loss: 0.1021 - categorical_accuracy: 1.0000 - val_loss: 0.7183 - val_categorical_accuracy: 0.8170"
   ]
  },
  {
   "cell_type": "markdown",
   "metadata": {},
   "source": [
    "## Best Model Validation Graph:"
   ]
  },
  {
   "cell_type": "code",
   "execution_count": 51,
   "metadata": {},
   "outputs": [
    {
     "data": {
      "image/png": "[encoded data removed]",
      "text/plain": [
       "<Figure size 1008x360 with 2 Axes>"
      ]
     },
     "metadata": {
      "needs_background": "light"
     },
     "output_type": "display_data"
    }
   ],
   "source": [
    "import matplotlib.pyplot as plt\n",
    "# Plot training & validation accuracy values\n",
    "plt.figure(figsize=(14, 5))\n",
    "\n",
    "plt.subplot(1, 2, 1)\n",
    "plt.plot(history.history['categorical_accuracy'], label='Train Accuracy')\n",
    "plt.plot(history.history['val_categorical_accuracy'], label='Val Accuracy')\n",
    "plt.title('Model Accuracy')\n",
    "plt.ylabel('Accuracy')\n",
    "plt.xlabel('Epoch')\n",
    "plt.legend(loc='upper left')\n",
    "\n",
    "plt.subplot(1, 2, 2)\n",
    "plt.plot(history.history['loss'], label='Train Loss')\n",
    "plt.plot(history.history['val_loss'], label='Val Loss')\n",
    "plt.title('Model Loss')\n",
    "plt.ylabel('Loss')\n",
    "plt.xlabel('Epoch')\n",
    "plt.legend(loc='upper left')\n",
    "\n",
    "plt.show()"
   ]
  },
  {
   "cell_type": "code",
   "execution_count": null,
   "metadata": {},
   "outputs": [],
   "source": []
  }
 ],
 "metadata": {
  "kernelspec": {
   "display_name": "Python 3 (ipykernel)",
   "language": "python",
   "name": "python3"
  },
  "language_info": {
   "codemirror_mode": {
    "name": "ipython",
    "version": 3
   },
   "file_extension": ".py",
   "mimetype": "text/x-python",
   "name": "python",
   "nbconvert_exporter": "python",
   "pygments_lexer": "ipython3",
   "version": "3.8.10"
  }
 },
 "nbformat": 4,
 "nbformat_minor": 4
}
